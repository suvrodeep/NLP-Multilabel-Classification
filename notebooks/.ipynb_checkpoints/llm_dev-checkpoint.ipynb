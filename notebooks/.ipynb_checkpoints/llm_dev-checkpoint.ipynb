{
 "cells": [
  {
   "cell_type": "code",
   "execution_count": 1,
   "id": "f1eeb7cd-7c85-4177-bd30-6441120d814a",
   "metadata": {},
   "outputs": [],
   "source": [
    "import sys\n",
    "sys.path.extend([\"../\", \"../src\", \"../config\"])"
   ]
  },
  {
   "cell_type": "code",
   "execution_count": 2,
   "id": "969c1931-c173-46e6-b816-207cf3d91703",
   "metadata": {},
   "outputs": [
    {
     "name": "stderr",
     "output_type": "stream",
     "text": [
      "[nltk_data] Downloading package omw-1.4 to\n",
      "[nltk_data]     C:\\Users\\suvro\\AppData\\Roaming\\nltk_data...\n",
      "[nltk_data]   Package omw-1.4 is already up-to-date!\n"
     ]
    }
   ],
   "source": [
    "import pandas as pd\n",
    "from preprocess import PreProcess\n",
    "from sklearn.model_selection import train_test_split"
   ]
  },
  {
   "cell_type": "code",
   "execution_count": 3,
   "id": "a6cd8146-4819-48f5-a217-af5642da00d2",
   "metadata": {},
   "outputs": [],
   "source": [
    "from langchain.llms import OpenLLM\n",
    "from langchain import PromptTemplate, LLMChain\n",
    "import re"
   ]
  },
  {
   "cell_type": "code",
   "execution_count": 4,
   "id": "b0de78d6-6649-4e0a-bd61-1ee3ba25af5e",
   "metadata": {},
   "outputs": [],
   "source": [
    "df = pd.read_json(\"../data.json\")"
   ]
  },
  {
   "cell_type": "code",
   "execution_count": 5,
   "id": "3b32b0b8-4bf3-42ed-9532-75d0cb4a7a2e",
   "metadata": {},
   "outputs": [
    {
     "data": {
      "text/html": [
       "<div>\n",
       "<style scoped>\n",
       "    .dataframe tbody tr th:only-of-type {\n",
       "        vertical-align: middle;\n",
       "    }\n",
       "\n",
       "    .dataframe tbody tr th {\n",
       "        vertical-align: top;\n",
       "    }\n",
       "\n",
       "    .dataframe thead th {\n",
       "        text-align: right;\n",
       "    }\n",
       "</style>\n",
       "<table border=\"1\" class=\"dataframe\">\n",
       "  <thead>\n",
       "    <tr style=\"text-align: right;\">\n",
       "      <th></th>\n",
       "      <th>level</th>\n",
       "      <th>description</th>\n",
       "      <th>title</th>\n",
       "    </tr>\n",
       "  </thead>\n",
       "  <tbody>\n",
       "    <tr>\n",
       "      <th>0</th>\n",
       "      <td>Entry Level</td>\n",
       "      <td>OUTFITTERY is Europe’s biggest Personal Shoppi...</td>\n",
       "      <td>Frontend Engineer (m/f)</td>\n",
       "    </tr>\n",
       "    <tr>\n",
       "      <th>1</th>\n",
       "      <td>Senior Level</td>\n",
       "      <td>OUTFITTERY is Europe’s biggest Personal Shoppi...</td>\n",
       "      <td>Senior Product Manager (m/f)</td>\n",
       "    </tr>\n",
       "    <tr>\n",
       "      <th>2</th>\n",
       "      <td>Entry Level</td>\n",
       "      <td>JOB DESCRIPTION\\nPamet is looking for Android ...</td>\n",
       "      <td>Android Developer</td>\n",
       "    </tr>\n",
       "    <tr>\n",
       "      <th>3</th>\n",
       "      <td>Senior Level</td>\n",
       "      <td>We are looking for a Development Lead with 5+ ...</td>\n",
       "      <td>Development Lead</td>\n",
       "    </tr>\n",
       "    <tr>\n",
       "      <th>4</th>\n",
       "      <td>Entry Level</td>\n",
       "      <td>JOB DESCRIPTION\\nPamet is looking for a IBM We...</td>\n",
       "      <td>IBM WebSphere Portal Developer</td>\n",
       "    </tr>\n",
       "    <tr>\n",
       "      <th>...</th>\n",
       "      <td>...</td>\n",
       "      <td>...</td>\n",
       "      <td>...</td>\n",
       "    </tr>\n",
       "    <tr>\n",
       "      <th>211</th>\n",
       "      <td>NaN</td>\n",
       "      <td>Work in a one of a kind international environm...</td>\n",
       "      <td>Native Italian Translation Internship</td>\n",
       "    </tr>\n",
       "    <tr>\n",
       "      <th>212</th>\n",
       "      <td>NaN</td>\n",
       "      <td>Work in a unique international environment and...</td>\n",
       "      <td>International Translation Internship Program (...</td>\n",
       "    </tr>\n",
       "    <tr>\n",
       "      <th>213</th>\n",
       "      <td>NaN</td>\n",
       "      <td>Photography - New York Habitat Internship\\nWho...</td>\n",
       "      <td>Photography - New York Habitat Internship</td>\n",
       "    </tr>\n",
       "    <tr>\n",
       "      <th>214</th>\n",
       "      <td>NaN</td>\n",
       "      <td>Are you free every day from 10:30am - 1:30pm a...</td>\n",
       "      <td>High Paying Part Time Delivery Driver</td>\n",
       "    </tr>\n",
       "    <tr>\n",
       "      <th>215</th>\n",
       "      <td>NaN</td>\n",
       "      <td>OUTFITTERY is Europe’s biggest Personal Shoppi...</td>\n",
       "      <td>Agile Coach (m/f)</td>\n",
       "    </tr>\n",
       "  </tbody>\n",
       "</table>\n",
       "<p>216 rows × 3 columns</p>\n",
       "</div>"
      ],
      "text/plain": [
       "            level                                        description  \\\n",
       "0     Entry Level  OUTFITTERY is Europe’s biggest Personal Shoppi...   \n",
       "1    Senior Level  OUTFITTERY is Europe’s biggest Personal Shoppi...   \n",
       "2     Entry Level  JOB DESCRIPTION\\nPamet is looking for Android ...   \n",
       "3    Senior Level  We are looking for a Development Lead with 5+ ...   \n",
       "4     Entry Level  JOB DESCRIPTION\\nPamet is looking for a IBM We...   \n",
       "..            ...                                                ...   \n",
       "211           NaN  Work in a one of a kind international environm...   \n",
       "212           NaN  Work in a unique international environment and...   \n",
       "213           NaN  Photography - New York Habitat Internship\\nWho...   \n",
       "214           NaN  Are you free every day from 10:30am - 1:30pm a...   \n",
       "215           NaN  OUTFITTERY is Europe’s biggest Personal Shoppi...   \n",
       "\n",
       "                                                 title  \n",
       "0                              Frontend Engineer (m/f)  \n",
       "1                         Senior Product Manager (m/f)  \n",
       "2                                    Android Developer  \n",
       "3                                     Development Lead  \n",
       "4                       IBM WebSphere Portal Developer  \n",
       "..                                                 ...  \n",
       "211              Native Italian Translation Internship  \n",
       "212  International Translation Internship Program (...  \n",
       "213          Photography - New York Habitat Internship  \n",
       "214              High Paying Part Time Delivery Driver  \n",
       "215                                  Agile Coach (m/f)  \n",
       "\n",
       "[216 rows x 3 columns]"
      ]
     },
     "execution_count": 5,
     "metadata": {},
     "output_type": "execute_result"
    }
   ],
   "source": [
    "df"
   ]
  },
  {
   "cell_type": "code",
   "execution_count": 6,
   "id": "3efc9847-43a3-4a1e-8957-85a115ead181",
   "metadata": {},
   "outputs": [],
   "source": [
    "def data_split(df):\n",
    "    data = df\n",
    "    \n",
    "    preprocess = PreProcess()\n",
    "    data['desc_title'] = data['title'].astype(str) + \" \" + data['description'].astype(str)\n",
    "    data['desc_title'] = preprocess.common_cleaning_functions(data=data['desc_title'])\n",
    "    \n",
    "    train_df = data.loc[~data['level'].isna()]\n",
    "    test_df = data.loc[data['level'].isna()]\n",
    "    \n",
    "    train_x, val_x, train_y, val_y = train_test_split(train_df['desc_title'].tolist(),\n",
    "                                                      train_df['level'].tolist(),\n",
    "                                                      test_size=0.2, random_state=3137)\n",
    "    \n",
    "    return train_x, val_x, train_y, val_y, test_df"
   ]
  },
  {
   "cell_type": "code",
   "execution_count": 7,
   "id": "81ae914d-6448-451e-a6b5-2aae4dc22061",
   "metadata": {},
   "outputs": [],
   "source": [
    "train_x, val_x, train_y, val_y, test_df = data_split(df=df)"
   ]
  },
  {
   "cell_type": "code",
   "execution_count": 8,
   "id": "882469e8-a90c-4627-ab05-f72124edd8b9",
   "metadata": {},
   "outputs": [],
   "source": [
    "labels = list(set(train_y))"
   ]
  },
  {
   "cell_type": "code",
   "execution_count": 9,
   "id": "2b4e5745-8082-4655-b6ae-8e6aefd1bf51",
   "metadata": {},
   "outputs": [
    {
     "data": {
      "application/vnd.jupyter.widget-view+json": {
       "model_id": "0862fcd6a5e447bcafec55bfe6dea984",
       "version_major": 2,
       "version_minor": 0
      },
      "text/plain": [
       "Downloading (…)lve/main/config.json:   0%|          | 0.00/1.40k [00:00<?, ?B/s]"
      ]
     },
     "metadata": {},
     "output_type": "display_data"
    }
   ],
   "source": [
    "llm = OpenLLM(\n",
    "    model_name=\"flan-t5\",\n",
    "    model_id=\"google/flan-t5-small\",\n",
    "    temperature=0.64,\n",
    "    repetition_penalty=1.2,\n",
    ")"
   ]
  },
  {
   "cell_type": "code",
   "execution_count": 10,
   "id": "367760db-2038-4730-ba4f-65f2bd626616",
   "metadata": {},
   "outputs": [],
   "source": [
    "global_template = \"Given job description is {desc}. Output should be one of {levels}\""
   ]
  },
  {
   "cell_type": "code",
   "execution_count": 11,
   "id": "ed08b891-a2d2-4ac2-9db5-dde732b32882",
   "metadata": {},
   "outputs": [],
   "source": [
    "def prompt_factory():\n",
    "    template = global_template\n",
    "    input_var_list = re.findall(\"\\{(.*?)\\}\", template)\n",
    "\n",
    "    return PromptTemplate(template=template, input_variables=input_var_list)"
   ]
  },
  {
   "cell_type": "code",
   "execution_count": 12,
   "id": "824a29a4-28a4-43b4-ab20-554a8b20946b",
   "metadata": {},
   "outputs": [],
   "source": [
    "def generate_response(keywords):\n",
    "    prompt = prompt_factory()\n",
    "    input_vars = prompt.input_variables\n",
    "    llm_chain = LLMChain(prompt=prompt, llm=llm)\n",
    "\n",
    "    if (len(input_vars) != len(keywords)):\n",
    "        print(\"Inputs don't match number of keywords\")\n",
    "        return \"Empty string\"\n",
    "    else:\n",
    "        chain_dict = {}\n",
    "        for index in range(0, len(input_vars)):\n",
    "            chain_dict.update({input_vars[index]: keywords[index]})\n",
    "        text_output = llm_chain.__call__(inputs=chain_dict, return_only_outputs=True)\n",
    "        return text_output[\"text\"]"
   ]
  },
  {
   "cell_type": "code",
   "execution_count": 13,
   "id": "e7b5f51e-6411-41b4-9e25-5f863c0897cb",
   "metadata": {},
   "outputs": [
    {
     "data": {
      "text/plain": [
       "'product manager fm travelcircus is seeking a product manager to join the team were looking for someone whos passionate about building a great and innovative product youll be an integral part of the team and will work closely with others throughout our company to deliver the best possible product to our customers ideal candidates will have 2 years of experience as a product manager working on online projects and a passion for travel this position is fulltime and based in our great office in berlin\\nthings you will work on\\n\\nbuild and extend our platform services and booking systems\\nserve as the conduit between our internal stakeholders and the software engineering team\\ndevelop the vision of our products and convert ideas into product requirements\\ndefine mvps milestones and guide the team through the development process\\ncoordinate implement and measure ab testing\\ndefine kpis and goals to constantly measure and improve product development efforts\\nanalyse the market for new trends and explore new business opportunities\\n\\nwhats in it for you\\n\\nthe opportunity to influence the development of our platform and products\\nbe part of a highly motivated and skilled team\\ncompetitive skilldependent negotiable salary  dont hesitate to approach us\\n\\nskills  requirements\\nour ideal candidate has\\n\\n2 years of product management experience especially with webbased products\\ndemonstrated strong instinctual understanding of ux design and what users want\\na passion for software and technology solutions that build simple and intuitive interfaces\\nexperience working in an agile development environment\\nexcellent visual verbal and written communication skills\\nstrategic visionary and analytical mindset\\nability to constantly reevaluate and improve\\n\\ncan you recognise yourself if yes send your application including\\xa0motivation letter cv desired salary and next possible entry date\\xa0addressed to stefanie sass via our online application form maybe you are going to be part of the travelcircus team very soon we are looking forward to get to know you'"
      ]
     },
     "execution_count": 13,
     "metadata": {},
     "output_type": "execute_result"
    }
   ],
   "source": [
    "train_x[10]"
   ]
  },
  {
   "cell_type": "code",
   "execution_count": 14,
   "id": "4c8d1f85-83b1-4f27-893b-80f4c853f2b9",
   "metadata": {},
   "outputs": [
    {
     "data": {
      "text/plain": [
       "'Senior Level'"
      ]
     },
     "execution_count": 14,
     "metadata": {},
     "output_type": "execute_result"
    }
   ],
   "source": [
    "train_y[1]"
   ]
  },
  {
   "cell_type": "code",
   "execution_count": 15,
   "id": "f34c91d3-f1fb-4fd7-99f0-93730e061369",
   "metadata": {},
   "outputs": [],
   "source": [
    "keywords = [train_x[10], \", \".join(labels)]"
   ]
  },
  {
   "cell_type": "code",
   "execution_count": 16,
   "id": "efb40d54-3484-4dd4-967b-e82a422d71fe",
   "metadata": {},
   "outputs": [
    {
     "data": {
      "text/plain": [
       "['product manager fm travelcircus is seeking a product manager to join the team were looking for someone whos passionate about building a great and innovative product youll be an integral part of the team and will work closely with others throughout our company to deliver the best possible product to our customers ideal candidates will have 2 years of experience as a product manager working on online projects and a passion for travel this position is fulltime and based in our great office in berlin\\nthings you will work on\\n\\nbuild and extend our platform services and booking systems\\nserve as the conduit between our internal stakeholders and the software engineering team\\ndevelop the vision of our products and convert ideas into product requirements\\ndefine mvps milestones and guide the team through the development process\\ncoordinate implement and measure ab testing\\ndefine kpis and goals to constantly measure and improve product development efforts\\nanalyse the market for new trends and explore new business opportunities\\n\\nwhats in it for you\\n\\nthe opportunity to influence the development of our platform and products\\nbe part of a highly motivated and skilled team\\ncompetitive skilldependent negotiable salary  dont hesitate to approach us\\n\\nskills  requirements\\nour ideal candidate has\\n\\n2 years of product management experience especially with webbased products\\ndemonstrated strong instinctual understanding of ux design and what users want\\na passion for software and technology solutions that build simple and intuitive interfaces\\nexperience working in an agile development environment\\nexcellent visual verbal and written communication skills\\nstrategic visionary and analytical mindset\\nability to constantly reevaluate and improve\\n\\ncan you recognise yourself if yes send your application including\\xa0motivation letter cv desired salary and next possible entry date\\xa0addressed to stefanie sass via our online application form maybe you are going to be part of the travelcircus team very soon we are looking forward to get to know you',\n",
       " 'Internship, Entry Level, Senior Level, Mid Level']"
      ]
     },
     "execution_count": 16,
     "metadata": {},
     "output_type": "execute_result"
    }
   ],
   "source": [
    "keywords"
   ]
  },
  {
   "cell_type": "code",
   "execution_count": 17,
   "id": "ac5775d4-fe29-4396-9236-7b93adc3cdd5",
   "metadata": {
    "scrolled": true
   },
   "outputs": [],
   "source": [
    "output = generate_response(keywords=keywords)"
   ]
  },
  {
   "cell_type": "code",
   "execution_count": 18,
   "id": "a86a55d1-e245-4440-a789-008f09e2a1eb",
   "metadata": {},
   "outputs": [
    {
     "name": "stdout",
     "output_type": "stream",
     "text": [
      "Applicants should be a product manager.\n"
     ]
    }
   ],
   "source": [
    "print(output)"
   ]
  },
  {
   "cell_type": "code",
   "execution_count": null,
   "id": "9648cf73-62a1-4ff2-be5a-10b135a31ea9",
   "metadata": {},
   "outputs": [],
   "source": []
  }
 ],
 "metadata": {
  "kernelspec": {
   "display_name": "Python 3 (ipykernel)",
   "language": "python",
   "name": "python3"
  },
  "language_info": {
   "codemirror_mode": {
    "name": "ipython",
    "version": 3
   },
   "file_extension": ".py",
   "mimetype": "text/x-python",
   "name": "python",
   "nbconvert_exporter": "python",
   "pygments_lexer": "ipython3",
   "version": "3.8.16"
  }
 },
 "nbformat": 4,
 "nbformat_minor": 5
}
