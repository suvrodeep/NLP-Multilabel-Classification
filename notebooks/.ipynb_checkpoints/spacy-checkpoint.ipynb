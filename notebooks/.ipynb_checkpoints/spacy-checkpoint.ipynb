{
 "cells": [
  {
   "cell_type": "code",
   "execution_count": 1,
   "id": "a4e5c8a6-180e-41d5-a42c-f720e703bdc4",
   "metadata": {},
   "outputs": [],
   "source": [
    "import sys\n",
    "sys.path.extend([\"../\", \"../src\", \"../config\"])"
   ]
  },
  {
   "cell_type": "code",
   "execution_count": 2,
   "id": "005ef572-5f7c-4ec1-bd2c-c3cfc8d5aaa1",
   "metadata": {},
   "outputs": [
    {
     "name": "stderr",
     "output_type": "stream",
     "text": [
      "[nltk_data] Downloading package omw-1.4 to\n",
      "[nltk_data]     C:\\Users\\suvro\\AppData\\Roaming\\nltk_data...\n",
      "[nltk_data]   Package omw-1.4 is already up-to-date!\n"
     ]
    }
   ],
   "source": [
    "import pandas as pd\n",
    "from model_factory import SpacyModel"
   ]
  },
  {
   "cell_type": "code",
   "execution_count": 3,
   "id": "343356d0-86c0-4ea9-8728-07f8f54bbd2d",
   "metadata": {},
   "outputs": [],
   "source": [
    "df = pd.read_json(\"../data.json\")"
   ]
  },
  {
   "cell_type": "code",
   "execution_count": 4,
   "id": "d73551c5-661e-4c9c-9892-8c12a6d5cad1",
   "metadata": {},
   "outputs": [],
   "source": [
    "model = SpacyModel(data=df, model_name='en_core_web_trf')"
   ]
  },
  {
   "cell_type": "code",
   "execution_count": 8,
   "id": "1af36f12-8c73-4d53-9c67-56a6e3e3ac57",
   "metadata": {},
   "outputs": [
    {
     "name": "stderr",
     "output_type": "stream",
     "text": [
      "100%|█████████████████████████████████████████████████████████████████████████| 1000/1000 [01:07<00:00, 14.73it/s]\n"
     ]
    },
    {
     "name": "stdout",
     "output_type": "stream",
     "text": [
      "Classification report for en_core_web_trf:\n",
      "               precision    recall  f1-score   support\n",
      "\n",
      "   Mid Level       0.50      0.10      0.17        10\n",
      "  Internship       1.00      1.00      1.00         3\n",
      "Senior Level       0.60      0.92      0.73        13\n",
      " Entry Level       0.50      0.67      0.57         3\n",
      "\n",
      "    accuracy                           0.62        29\n",
      "   macro avg       0.65      0.67      0.62        29\n",
      "weighted avg       0.60      0.62      0.55        29\n",
      "\n"
     ]
    }
   ],
   "source": [
    "model.performance_metrics()"
   ]
  },
  {
   "cell_type": "code",
   "execution_count": 9,
   "id": "c9c3ba57-d109-46a0-87cb-d6137b2e1f82",
   "metadata": {},
   "outputs": [],
   "source": [
    "model.initialize_docbins(generate_test_file=True)"
   ]
  },
  {
   "cell_type": "code",
   "execution_count": 10,
   "id": "b499b6a8-ac83-446c-ab85-17a82d301f9c",
   "metadata": {},
   "outputs": [
    {
     "name": "stdout",
     "output_type": "stream",
     "text": [
      "\u001b[38;5;4mℹ Saving to output directory: ..\\trained_pipelines\u001b[0m\n",
      "\u001b[38;5;4mℹ Using GPU: 0\u001b[0m\n",
      "\u001b[1m\n",
      "=========================== Initializing pipeline ===========================\u001b[0m\n"
     ]
    },
    {
     "name": "stderr",
     "output_type": "stream",
     "text": [
      "Some weights of the model checkpoint at roberta-base were not used when initializing RobertaModel: ['lm_head.bias', 'lm_head.dense.weight', 'lm_head.layer_norm.weight', 'lm_head.dense.bias', 'lm_head.layer_norm.bias']\n",
      "- This IS expected if you are initializing RobertaModel from the checkpoint of a model trained on another task or with another architecture (e.g. initializing a BertForSequenceClassification model from a BertForPreTraining model).\n",
      "- This IS NOT expected if you are initializing RobertaModel from the checkpoint of a model that you expect to be exactly identical (initializing a BertForSequenceClassification model from a BertForSequenceClassification model).\n",
      "Some weights of RobertaModel were not initialized from the model checkpoint at roberta-base and are newly initialized: ['roberta.pooler.dense.weight', 'roberta.pooler.dense.bias']\n",
      "You should probably TRAIN this model on a down-stream task to be able to use it for predictions and inference.\n"
     ]
    },
    {
     "name": "stdout",
     "output_type": "stream",
     "text": [
      "\u001b[38;5;2m✔ Initialized pipeline\u001b[0m\n",
      "\u001b[1m\n",
      "============================= Training pipeline =============================\u001b[0m\n",
      "\u001b[38;5;4mℹ Pipeline: ['transformer', 'textcat_multilabel']\u001b[0m\n",
      "\u001b[38;5;4mℹ Initial learn rate: 0.0\u001b[0m\n",
      "E    #       LOSS TRANS...  LOSS TEXTC...  CATS_SCORE  SCORE \n",
      "---  ------  -------------  -------------  ----------  ------\n",
      "  0       0           0.15           0.49       43.02    0.43\n",
      "  1     100           6.80          31.13       46.11    0.46\n",
      "  3     200           4.55          23.24       52.24    0.52\n",
      "  5     300           4.01          22.39       59.00    0.59\n",
      "  7     400           3.16          20.03       61.54    0.62\n",
      "  8     500           3.61          19.85       65.82    0.66\n",
      " 10     600           3.30          18.99       63.35    0.63\n",
      " 12     700           2.90          18.82       68.18    0.68\n",
      " 14     800           2.78          17.18       76.53    0.77\n",
      " 16     900           2.52          16.08       76.11    0.76\n",
      " 17    1000           1.73          12.64       74.37    0.74\n",
      " 19    1100           1.54          11.73       80.13    0.80\n",
      " 21    1200           1.24           8.08       84.45    0.84\n",
      " 23    1300           1.04           7.17       85.79    0.86\n",
      " 25    1400           0.54           6.48       81.07    0.81\n",
      " 26    1500           1.01           3.31       83.22    0.83\n",
      " 28    1600           1.86           2.22       84.57    0.85\n",
      " 30    1700           0.39           1.69       82.20    0.82\n",
      " 32    1800           0.41           2.20       86.07    0.86\n",
      " 33    1900           0.83           2.61       90.42    0.90\n",
      " 35    2000           0.21           1.13       87.13    0.87\n",
      " 37    2100           3.33           1.13       83.12    0.83\n",
      " 39    2200           0.35           1.33       82.29    0.82\n",
      " 41    2300           0.21           1.03       81.43    0.81\n",
      " 42    2400           0.22           0.62       83.00    0.83\n",
      " 44    2500           0.07           0.12       82.49    0.82\n",
      " 46    2600           0.21           0.53       86.39    0.86\n",
      " 48    2700           0.21           1.21       76.63    0.77\n",
      " 50    2800           0.28           0.47       85.95    0.86\n",
      " 51    2900           0.38           0.59       80.37    0.80\n",
      "\u001b[38;5;2m✔ Saved pipeline to output directory\u001b[0m\n",
      "..\\trained_pipelines\\model-last\n"
     ]
    }
   ],
   "source": [
    "model.train_cli()"
   ]
  },
  {
   "cell_type": "code",
   "execution_count": 11,
   "id": "25afd03e-89c2-4573-95be-7354d1558176",
   "metadata": {},
   "outputs": [
    {
     "name": "stdout",
     "output_type": "stream",
     "text": [
      "\u001b[38;5;4mℹ Using GPU: 0\u001b[0m\n",
      "\u001b[1m\n",
      "================================== Results ==================================\u001b[0m\n",
      "\n",
      "TOK                   100.00\n",
      "TEXTCAT (macro AUC)   90.42 \n",
      "SPEED                 9078  \n",
      "\n",
      "\u001b[1m\n",
      "=========================== Textcat F (per label) ===========================\u001b[0m\n",
      "\n",
      "                    P        R        F\n",
      "Mid Level      100.00    20.00    33.33\n",
      "Internship     100.00   100.00   100.00\n",
      "Senior Level    62.50    76.92    68.97\n",
      "Entry Level     60.00   100.00    75.00\n",
      "\n",
      "\u001b[1m\n",
      "======================== Textcat ROC AUC (per label) ========================\u001b[0m\n",
      "\n",
      "               ROC AUC\n",
      "Mid Level         0.77\n",
      "Internship        1.00\n",
      "Senior Level      0.86\n",
      "Entry Level       0.99\n",
      "\n"
     ]
    }
   ],
   "source": [
    "model.eval_cli()"
   ]
  },
  {
   "cell_type": "code",
   "execution_count": 12,
   "id": "0d10ae52-1768-429d-851e-77607e4d97e9",
   "metadata": {},
   "outputs": [
    {
     "name": "stdout",
     "output_type": "stream",
     "text": [
      "\u001b[38;5;4m[i] Using GPU: 0\u001b[0m\n",
      "\u001b[38;5;2m[+] Loaded model ..\\trained_pipelines\\model-best\\\u001b[0m\n"
     ]
    },
    {
     "name": "stderr",
     "output_type": "stream",
     "text": [
      "\n",
      "0it [00:00, ?it/s]\n",
      "1it [00:01,  1.51s/it]\n",
      "6it [00:01,  4.84it/s]\n",
      "10it [00:01,  8.46it/s]\n",
      "13it [00:01, 11.10it/s]\n",
      "18it [00:01, 16.57it/s]\n",
      "23it [00:02, 21.94it/s]\n",
      "28it [00:02, 27.43it/s]\n",
      "29it [00:02, 13.05it/s]\n"
     ]
    }
   ],
   "source": [
    "# Apply model on test/validation data\n",
    "!python -m spacy apply ..\\trained_pipelines\\model-best\\ ..\\data\\val.spacy ..\\outputs\\test_pred.spacy --force --gpu-id 0"
   ]
  },
  {
   "cell_type": "code",
   "execution_count": 13,
   "id": "ed3108d7-64df-4fb4-bfe8-44ca020a7d45",
   "metadata": {},
   "outputs": [
    {
     "name": "stdout",
     "output_type": "stream",
     "text": [
      "Classification report for en_core_web_trf:\n",
      "               precision    recall  f1-score   support\n",
      "\n",
      "   Mid Level       1.00      0.30      0.46        10\n",
      "  Internship       1.00      1.00      1.00         3\n",
      "Senior Level       0.65      0.85      0.73        13\n",
      " Entry Level       0.50      1.00      0.67         3\n",
      "\n",
      "    accuracy                           0.69        29\n",
      "   macro avg       0.79      0.79      0.72        29\n",
      "weighted avg       0.79      0.69      0.66        29\n",
      "\n"
     ]
    }
   ],
   "source": [
    "model.performance_metrics(from_saved_model=True)"
   ]
  },
  {
   "cell_type": "code",
   "execution_count": 14,
   "id": "1ffbfa77-279d-424b-acc5-59959bfbe71c",
   "metadata": {},
   "outputs": [
    {
     "name": "stdout",
     "output_type": "stream",
     "text": [
      "\u001b[38;5;4m[i] Using GPU: 0\u001b[0m\n",
      "\u001b[38;5;2m[+] Loaded model ..\\trained_pipelines\\model-best\\\u001b[0m\n"
     ]
    },
    {
     "name": "stderr",
     "output_type": "stream",
     "text": [
      "\n",
      "0it [00:00, ?it/s]\n",
      "1it [00:01,  1.54s/it]\n",
      "3it [00:01,  2.19it/s]\n",
      "5it [00:01,  3.93it/s]\n",
      "8it [00:01,  6.86it/s]\n",
      "10it [00:02,  7.77it/s]\n",
      "12it [00:02,  9.25it/s]\n",
      "14it [00:02, 11.02it/s]\n",
      "16it [00:02, 11.45it/s]\n",
      "18it [00:02, 12.02it/s]\n",
      "20it [00:02, 12.60it/s]\n",
      "22it [00:02, 13.82it/s]\n",
      "24it [00:03, 14.88it/s]\n",
      "27it [00:03, 16.02it/s]\n",
      "29it [00:03, 16.48it/s]\n",
      "31it [00:03, 15.99it/s]\n",
      "33it [00:03, 15.86it/s]\n",
      "35it [00:03, 15.66it/s]\n",
      "37it [00:03, 15.36it/s]\n",
      "39it [00:03, 15.90it/s]\n",
      "41it [00:04, 15.16it/s]\n",
      "44it [00:04, 17.19it/s]\n",
      "47it [00:04, 18.97it/s]\n",
      "49it [00:04, 17.93it/s]\n",
      "51it [00:04, 17.72it/s]\n",
      "54it [00:04, 18.67it/s]\n",
      "56it [00:04, 18.69it/s]\n",
      "58it [00:05, 17.60it/s]\n",
      "60it [00:05, 16.55it/s]\n",
      "62it [00:05, 16.03it/s]\n",
      "64it [00:05, 16.13it/s]\n",
      "66it [00:05, 17.07it/s]\n",
      "68it [00:05, 16.42it/s]\n",
      "70it [00:05, 15.98it/s]\n",
      "72it [00:05, 15.61it/s]\n",
      "74it [00:06, 15.45it/s]\n",
      "75it [00:06, 12.25it/s]\n"
     ]
    }
   ],
   "source": [
    "# Apply model on actual test data\n",
    "!python -m spacy apply ..\\trained_pipelines\\model-best\\ ..\\data\\test.spacy ..\\outputs\\test_pred.spacy --force --gpu-id 0"
   ]
  },
  {
   "cell_type": "code",
   "execution_count": 17,
   "id": "63b8f30a-cd69-4dcc-a033-e3c5633c3007",
   "metadata": {},
   "outputs": [
    {
     "name": "stderr",
     "output_type": "stream",
     "text": [
      "C:\\Users\\suvro\\AppData\\Local\\Temp\\ipykernel_20804\\4025663587.py:4: SettingWithCopyWarning: \n",
      "A value is trying to be set on a copy of a slice from a DataFrame.\n",
      "Try using .loc[row_indexer,col_indexer] = value instead\n",
      "\n",
      "See the caveats in the documentation: https://pandas.pydata.org/pandas-docs/stable/user_guide/indexing.html#returning-a-view-versus-a-copy\n",
      "  test['level'] = test_pred_levels\n"
     ]
    }
   ],
   "source": [
    "test_pred_levels = model.get_test_preds()\n",
    "test = model.test_df\n",
    "test.drop('desc_title', axis=1)\n",
    "test['level'] = test_pred_levels"
   ]
  },
  {
   "cell_type": "code",
   "execution_count": 18,
   "id": "b4a31c62-04e5-42ba-a6db-34b171560401",
   "metadata": {},
   "outputs": [
    {
     "data": {
      "text/html": [
       "<div>\n",
       "<style scoped>\n",
       "    .dataframe tbody tr th:only-of-type {\n",
       "        vertical-align: middle;\n",
       "    }\n",
       "\n",
       "    .dataframe tbody tr th {\n",
       "        vertical-align: top;\n",
       "    }\n",
       "\n",
       "    .dataframe thead th {\n",
       "        text-align: right;\n",
       "    }\n",
       "</style>\n",
       "<table border=\"1\" class=\"dataframe\">\n",
       "  <thead>\n",
       "    <tr style=\"text-align: right;\">\n",
       "      <th></th>\n",
       "      <th>level</th>\n",
       "      <th>description</th>\n",
       "      <th>title</th>\n",
       "      <th>desc_title</th>\n",
       "    </tr>\n",
       "  </thead>\n",
       "  <tbody>\n",
       "    <tr>\n",
       "      <th>141</th>\n",
       "      <td>Entry Level</td>\n",
       "      <td>OUTFITTERY is Europe’s biggest Personal Shoppi...</td>\n",
       "      <td>Customer Service Netherlands in Berlin (m/f)</td>\n",
       "      <td>outfittery europes biggest personal shopping s...</td>\n",
       "    </tr>\n",
       "    <tr>\n",
       "      <th>142</th>\n",
       "      <td>Mid Level</td>\n",
       "      <td>OUTFITTERY is Europe’s biggest Personal Shoppi...</td>\n",
       "      <td>DevOps Engineer (m/f)</td>\n",
       "      <td>outfittery europes biggest personal shopping s...</td>\n",
       "    </tr>\n",
       "    <tr>\n",
       "      <th>143</th>\n",
       "      <td>Senior Level</td>\n",
       "      <td>OUTFITTERY is Europe’s biggest Personal Shoppi...</td>\n",
       "      <td>Head of Product Management (IT) (m/f)</td>\n",
       "      <td>outfittery europes biggest personal shopping s...</td>\n",
       "    </tr>\n",
       "    <tr>\n",
       "      <th>144</th>\n",
       "      <td>Mid Level</td>\n",
       "      <td>OUTFITTERY is Europe’s biggest Personal Shoppi...</td>\n",
       "      <td>Help Desk Support (m/f)</td>\n",
       "      <td>outfittery europes biggest personal shopping s...</td>\n",
       "    </tr>\n",
       "    <tr>\n",
       "      <th>145</th>\n",
       "      <td>Internship</td>\n",
       "      <td>OUTFITTERY is Europe’s biggest Personal Shoppi...</td>\n",
       "      <td>Intern Help Desk (m/f)</td>\n",
       "      <td>outfittery europes biggest personal shopping s...</td>\n",
       "    </tr>\n",
       "    <tr>\n",
       "      <th>...</th>\n",
       "      <td>...</td>\n",
       "      <td>...</td>\n",
       "      <td>...</td>\n",
       "      <td>...</td>\n",
       "    </tr>\n",
       "    <tr>\n",
       "      <th>211</th>\n",
       "      <td>Entry Level</td>\n",
       "      <td>Work in a one of a kind international environm...</td>\n",
       "      <td>Native Italian Translation Internship</td>\n",
       "      <td>work kind international environment allow cont...</td>\n",
       "    </tr>\n",
       "    <tr>\n",
       "      <th>212</th>\n",
       "      <td>Entry Level</td>\n",
       "      <td>Work in a unique international environment and...</td>\n",
       "      <td>International Translation Internship Program (...</td>\n",
       "      <td>work unique international environment enjoy in...</td>\n",
       "    </tr>\n",
       "    <tr>\n",
       "      <th>213</th>\n",
       "      <td>Mid Level</td>\n",
       "      <td>Photography - New York Habitat Internship\\nWho...</td>\n",
       "      <td>Photography - New York Habitat Internship</td>\n",
       "      <td>photography new york habitat internship new yo...</td>\n",
       "    </tr>\n",
       "    <tr>\n",
       "      <th>214</th>\n",
       "      <td>Entry Level</td>\n",
       "      <td>Are you free every day from 10:30am - 1:30pm a...</td>\n",
       "      <td>High Paying Part Time Delivery Driver</td>\n",
       "      <td>free day 1030am 130pm reliable vehicle 60 deli...</td>\n",
       "    </tr>\n",
       "    <tr>\n",
       "      <th>215</th>\n",
       "      <td>Senior Level</td>\n",
       "      <td>OUTFITTERY is Europe’s biggest Personal Shoppi...</td>\n",
       "      <td>Agile Coach (m/f)</td>\n",
       "      <td>outfittery europes biggest personal shopping s...</td>\n",
       "    </tr>\n",
       "  </tbody>\n",
       "</table>\n",
       "<p>75 rows × 4 columns</p>\n",
       "</div>"
      ],
      "text/plain": [
       "            level                                        description  \\\n",
       "141   Entry Level  OUTFITTERY is Europe’s biggest Personal Shoppi...   \n",
       "142     Mid Level  OUTFITTERY is Europe’s biggest Personal Shoppi...   \n",
       "143  Senior Level  OUTFITTERY is Europe’s biggest Personal Shoppi...   \n",
       "144     Mid Level  OUTFITTERY is Europe’s biggest Personal Shoppi...   \n",
       "145    Internship  OUTFITTERY is Europe’s biggest Personal Shoppi...   \n",
       "..            ...                                                ...   \n",
       "211   Entry Level  Work in a one of a kind international environm...   \n",
       "212   Entry Level  Work in a unique international environment and...   \n",
       "213     Mid Level  Photography - New York Habitat Internship\\nWho...   \n",
       "214   Entry Level  Are you free every day from 10:30am - 1:30pm a...   \n",
       "215  Senior Level  OUTFITTERY is Europe’s biggest Personal Shoppi...   \n",
       "\n",
       "                                                 title  \\\n",
       "141       Customer Service Netherlands in Berlin (m/f)   \n",
       "142                              DevOps Engineer (m/f)   \n",
       "143              Head of Product Management (IT) (m/f)   \n",
       "144                            Help Desk Support (m/f)   \n",
       "145                             Intern Help Desk (m/f)   \n",
       "..                                                 ...   \n",
       "211              Native Italian Translation Internship   \n",
       "212  International Translation Internship Program (...   \n",
       "213          Photography - New York Habitat Internship   \n",
       "214              High Paying Part Time Delivery Driver   \n",
       "215                                  Agile Coach (m/f)   \n",
       "\n",
       "                                            desc_title  \n",
       "141  outfittery europes biggest personal shopping s...  \n",
       "142  outfittery europes biggest personal shopping s...  \n",
       "143  outfittery europes biggest personal shopping s...  \n",
       "144  outfittery europes biggest personal shopping s...  \n",
       "145  outfittery europes biggest personal shopping s...  \n",
       "..                                                 ...  \n",
       "211  work kind international environment allow cont...  \n",
       "212  work unique international environment enjoy in...  \n",
       "213  photography new york habitat internship new yo...  \n",
       "214  free day 1030am 130pm reliable vehicle 60 deli...  \n",
       "215  outfittery europes biggest personal shopping s...  \n",
       "\n",
       "[75 rows x 4 columns]"
      ]
     },
     "execution_count": 18,
     "metadata": {},
     "output_type": "execute_result"
    }
   ],
   "source": [
    "test"
   ]
  },
  {
   "cell_type": "code",
   "execution_count": 19,
   "id": "ac2555fb-a5c1-4fdd-8b6b-7f7dd07ea842",
   "metadata": {},
   "outputs": [],
   "source": [
    "test.to_json(\"../outputs/test_pred.json\", orient='records')"
   ]
  },
  {
   "cell_type": "code",
   "execution_count": null,
   "id": "db70853b-b95b-4cc4-83e6-3e590cbc8f5a",
   "metadata": {},
   "outputs": [],
   "source": []
  }
 ],
 "metadata": {
  "kernelspec": {
   "display_name": "Python 3 (ipykernel)",
   "language": "python",
   "name": "python3"
  },
  "language_info": {
   "codemirror_mode": {
    "name": "ipython",
    "version": 3
   },
   "file_extension": ".py",
   "mimetype": "text/x-python",
   "name": "python",
   "nbconvert_exporter": "python",
   "pygments_lexer": "ipython3",
   "version": "3.8.16"
  }
 },
 "nbformat": 4,
 "nbformat_minor": 5
}
