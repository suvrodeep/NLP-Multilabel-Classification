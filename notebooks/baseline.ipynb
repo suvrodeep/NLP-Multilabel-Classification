{
 "cells": [
  {
   "cell_type": "code",
   "execution_count": 1,
   "id": "b8c050df-e95f-4028-8ff3-77b047430b6d",
   "metadata": {},
   "outputs": [],
   "source": [
    "import sys\n",
    "sys.path.extend([\"../\", \"../src\", \"../config\"])"
   ]
  },
  {
   "cell_type": "code",
   "execution_count": 2,
   "id": "79fa4430-03c5-40ae-a955-186d5761e290",
   "metadata": {},
   "outputs": [
    {
     "name": "stderr",
     "output_type": "stream",
     "text": [
      "[nltk_data] Downloading package omw-1.4 to\n",
      "[nltk_data]     C:\\Users\\suvro\\AppData\\Roaming\\nltk_data...\n",
      "[nltk_data]   Package omw-1.4 is already up-to-date!\n"
     ]
    }
   ],
   "source": [
    "from preprocess import PreProcess\n",
    "from model_factory import BaselineModel\n",
    "import pandas as pd"
   ]
  },
  {
   "cell_type": "code",
   "execution_count": 3,
   "id": "43b82cd0-935d-4c6d-b816-cb4e173aa567",
   "metadata": {},
   "outputs": [],
   "source": [
    "df = pd.read_json(\"../data.json\")"
   ]
  },
  {
   "cell_type": "code",
   "execution_count": 4,
   "id": "a7d6f01b-84fe-4575-8618-f01dea9136f9",
   "metadata": {},
   "outputs": [],
   "source": [
    "baseline_models = ['SupportVectorClassifier', 'NaiveBayesClassifier']"
   ]
  },
  {
   "cell_type": "code",
   "execution_count": 5,
   "id": "f9edb8c9-a592-4280-8478-7b0bbef22c98",
   "metadata": {},
   "outputs": [
    {
     "name": "stdout",
     "output_type": "stream",
     "text": [
      "Classification report for SupportVectorClassifier:\n",
      "               precision    recall  f1-score   support\n",
      "\n",
      "Senior Level       0.52      0.92      0.67        13\n",
      "   Mid Level       0.00      0.00      0.00        10\n",
      "  Internship       1.00      0.33      0.50         3\n",
      " Entry Level       0.50      0.67      0.57         3\n",
      "\n",
      "    accuracy                           0.52        29\n",
      "   macro avg       0.51      0.48      0.43        29\n",
      "weighted avg       0.39      0.52      0.41        29\n",
      "\n",
      "Classification report for NaiveBayesClassifier:\n",
      "               precision    recall  f1-score   support\n",
      "\n",
      "Senior Level       0.50      0.85      0.63        13\n",
      "   Mid Level       0.00      0.00      0.00        10\n",
      "  Internship       1.00      0.33      0.50         3\n",
      " Entry Level       0.40      0.67      0.50         3\n",
      "\n",
      "    accuracy                           0.48        29\n",
      "   macro avg       0.47      0.46      0.41        29\n",
      "weighted avg       0.37      0.48      0.39        29\n",
      "\n"
     ]
    }
   ],
   "source": [
    "for model in baseline_models:\n",
    "    baseline_model = BaselineModel(data=df, model_type=model)\n",
    "    baseline_model.performance_metrics()"
   ]
  },
  {
   "cell_type": "code",
   "execution_count": null,
   "id": "d4d388b4-c05b-4766-944e-8585189c447a",
   "metadata": {},
   "outputs": [],
   "source": []
  }
 ],
 "metadata": {
  "kernelspec": {
   "display_name": "Python 3 (ipykernel)",
   "language": "python",
   "name": "python3"
  },
  "language_info": {
   "codemirror_mode": {
    "name": "ipython",
    "version": 3
   },
   "file_extension": ".py",
   "mimetype": "text/x-python",
   "name": "python",
   "nbconvert_exporter": "python",
   "pygments_lexer": "ipython3",
   "version": "3.8.16"
  }
 },
 "nbformat": 4,
 "nbformat_minor": 5
}
