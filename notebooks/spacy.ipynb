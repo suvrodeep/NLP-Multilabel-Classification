{
 "cells": [
  {
   "cell_type": "code",
   "execution_count": 1,
   "id": "a4e5c8a6-180e-41d5-a42c-f720e703bdc4",
   "metadata": {},
   "outputs": [],
   "source": [
    "import sys\n",
    "sys.path.extend([\"../\", \"../src\", \"../config\"])"
   ]
  },
  {
   "cell_type": "code",
   "execution_count": 2,
   "id": "005ef572-5f7c-4ec1-bd2c-c3cfc8d5aaa1",
   "metadata": {},
   "outputs": [
    {
     "name": "stderr",
     "output_type": "stream",
     "text": [
      "[nltk_data] Downloading package omw-1.4 to\n",
      "[nltk_data]     C:\\Users\\suvro\\AppData\\Roaming\\nltk_data...\n",
      "[nltk_data]   Package omw-1.4 is already up-to-date!\n"
     ]
    }
   ],
   "source": [
    "import pandas as pd\n",
    "from model_factory import SpacyModel"
   ]
  },
  {
   "cell_type": "code",
   "execution_count": 3,
   "id": "343356d0-86c0-4ea9-8728-07f8f54bbd2d",
   "metadata": {},
   "outputs": [],
   "source": [
    "df = pd.read_json(\"../data.json\")"
   ]
  },
  {
   "cell_type": "code",
   "execution_count": 4,
   "id": "d73551c5-661e-4c9c-9892-8c12a6d5cad1",
   "metadata": {},
   "outputs": [],
   "source": [
    "model = SpacyModel(data=df, model_name='en_core_web_lg')"
   ]
  },
  {
   "cell_type": "code",
   "execution_count": 5,
   "id": "1af36f12-8c73-4d53-9c67-56a6e3e3ac57",
   "metadata": {},
   "outputs": [
    {
     "name": "stderr",
     "output_type": "stream",
     "text": [
      "100%|█████████████████████████████████████████████████████████████████████████| 1000/1000 [01:07<00:00, 14.91it/s]\n"
     ]
    },
    {
     "name": "stdout",
     "output_type": "stream",
     "text": [
      "Classification report for en_core_web_lg:\n",
      "               precision    recall  f1-score   support\n",
      "\n",
      "Senior Level       0.65      0.85      0.73        13\n",
      " Entry Level       0.50      1.00      0.67         3\n",
      "  Internship       1.00      1.00      1.00         3\n",
      "   Mid Level       1.00      0.30      0.46        10\n",
      "\n",
      "    accuracy                           0.69        29\n",
      "   macro avg       0.79      0.79      0.72        29\n",
      "weighted avg       0.79      0.69      0.66        29\n",
      "\n"
     ]
    }
   ],
   "source": [
    "model.performance_metrics()"
   ]
  },
  {
   "cell_type": "code",
   "execution_count": 6,
   "id": "c9c3ba57-d109-46a0-87cb-d6137b2e1f82",
   "metadata": {},
   "outputs": [],
   "source": [
    "model.initialize_docbins(generate_test_file=True)"
   ]
  },
  {
   "cell_type": "code",
   "execution_count": 7,
   "id": "b499b6a8-ac83-446c-ab85-17a82d301f9c",
   "metadata": {},
   "outputs": [
    {
     "name": "stdout",
     "output_type": "stream",
     "text": [
      "\u001b[38;5;4mℹ Saving to output directory: ..\\trained_pipelines\u001b[0m\n",
      "\u001b[38;5;4mℹ Using GPU: 0\u001b[0m\n",
      "\u001b[1m\n",
      "=========================== Initializing pipeline ===========================\u001b[0m\n"
     ]
    },
    {
     "name": "stderr",
     "output_type": "stream",
     "text": [
      "Some weights of the model checkpoint at roberta-base were not used when initializing RobertaModel: ['lm_head.dense.bias', 'lm_head.layer_norm.weight', 'lm_head.bias', 'lm_head.layer_norm.bias', 'lm_head.dense.weight']\n",
      "- This IS expected if you are initializing RobertaModel from the checkpoint of a model trained on another task or with another architecture (e.g. initializing a BertForSequenceClassification model from a BertForPreTraining model).\n",
      "- This IS NOT expected if you are initializing RobertaModel from the checkpoint of a model that you expect to be exactly identical (initializing a BertForSequenceClassification model from a BertForSequenceClassification model).\n",
      "Some weights of RobertaModel were not initialized from the model checkpoint at roberta-base and are newly initialized: ['roberta.pooler.dense.bias', 'roberta.pooler.dense.weight']\n",
      "You should probably TRAIN this model on a down-stream task to be able to use it for predictions and inference.\n"
     ]
    },
    {
     "name": "stdout",
     "output_type": "stream",
     "text": [
      "\u001b[38;5;2m✔ Initialized pipeline\u001b[0m\n",
      "\u001b[1m\n",
      "============================= Training pipeline =============================\u001b[0m\n",
      "\u001b[38;5;4mℹ Pipeline: ['transformer', 'textcat_multilabel']\u001b[0m\n",
      "\u001b[38;5;4mℹ Initial learn rate: 0.0\u001b[0m\n",
      "E    #       LOSS TRANS...  LOSS TEXTC...  CATS_SCORE  SCORE \n",
      "---  ------  -------------  -------------  ----------  ------\n",
      "  0       0           0.10           0.19       53.26    0.53\n",
      "  1     100           6.63          31.04       62.14    0.62\n",
      "  3     200           4.30          23.74       62.27    0.62\n",
      "  5     300           3.65          21.59       67.10    0.67\n",
      "  7     400           2.90          20.31       71.11    0.71\n",
      "  8     500           2.71          19.91       73.00    0.73\n",
      " 10     600           3.17          17.80       75.74    0.76\n",
      " 12     700           2.62          16.86       76.53    0.77\n",
      " 14     800           2.85          14.40       83.56    0.84\n",
      " 16     900           1.92          13.43       78.82    0.79\n",
      " 17    1000           1.99          11.19       84.05    0.84\n",
      " 19    1100           1.44           7.85       81.09    0.81\n",
      " 21    1200           1.87           7.99       83.15    0.83\n",
      " 23    1300           1.34           6.59       82.98    0.83\n",
      " 25    1400           0.39           3.97       83.28    0.83\n",
      " 26    1500           0.22           1.56       81.30    0.81\n",
      " 28    1600           0.57           2.08       80.81    0.81\n",
      " 30    1700           0.17           1.82       83.11    0.83\n",
      " 32    1800           0.21           1.29       84.97    0.85\n",
      " 33    1900           0.21           1.18       85.74    0.86\n",
      " 35    2000           0.09           0.84       85.75    0.86\n",
      " 37    2100           0.28           0.58       84.41    0.84\n",
      " 39    2200           0.22           1.02       82.48    0.82\n",
      " 41    2300           0.10           0.44       83.52    0.84\n",
      " 42    2400           0.20           1.24       86.28    0.86\n",
      " 44    2500           0.18           1.09       84.91    0.85\n",
      " 46    2600           0.04           0.05       86.81    0.87\n",
      " 48    2700           0.02           0.06       86.27    0.86\n",
      " 50    2800           0.17           0.89       83.41    0.83\n",
      " 51    2900           0.06           0.87       86.86    0.87\n",
      " 53    3000           0.00           0.01       86.89    0.87\n",
      " 55    3100           0.00           0.00       84.56    0.85\n",
      " 57    3200           0.03           0.54       90.30    0.90\n",
      " 58    3300           1.11           3.08       92.02    0.92\n",
      " 60    3400           0.35           1.64       89.13    0.89\n",
      " 62    3500           0.23           1.28       82.28    0.82\n",
      " 64    3600           0.19           1.26       84.20    0.84\n",
      " 66    3700           0.85           0.07       84.00    0.84\n",
      " 67    3800           0.50           0.52       79.43    0.79\n",
      " 69    3900           0.18           3.73       89.63    0.90\n",
      " 71    4000           0.05           2.25       82.72    0.83\n",
      " 73    4100           0.01           0.27       83.95    0.84\n",
      " 75    4200           0.20           1.76       92.62    0.93\n",
      " 76    4300           1.37           3.87       82.08    0.82\n",
      " 78    4400           0.59           1.95       77.72    0.78\n",
      " 80    4500           0.33           0.99       79.19    0.79\n",
      " 82    4600           0.66           1.53       84.30    0.84\n",
      " 83    4700           0.02           0.33       90.73    0.91\n",
      " 85    4800           0.00           0.00       90.73    0.91\n",
      " 87    4900           0.00           0.00       90.98    0.91\n",
      " 89    5000           0.00           0.00       91.04    0.91\n",
      " 91    5100           0.52           0.59       88.32    0.88\n",
      " 92    5200           0.02           1.23       82.54    0.83\n",
      "\u001b[38;5;2m✔ Saved pipeline to output directory\u001b[0m\n",
      "..\\trained_pipelines\\model-last\n"
     ]
    }
   ],
   "source": [
    "# Train transformer model\n",
    "model.train_cli()"
   ]
  },
  {
   "cell_type": "code",
   "execution_count": 8,
   "id": "25afd03e-89c2-4573-95be-7354d1558176",
   "metadata": {},
   "outputs": [
    {
     "name": "stdout",
     "output_type": "stream",
     "text": [
      "\u001b[38;5;4mℹ Using GPU: 0\u001b[0m\n",
      "\u001b[1m\n",
      "================================== Results ==================================\u001b[0m\n",
      "\n",
      "TOK                   100.00\n",
      "TEXTCAT (macro AUC)   92.62 \n",
      "SPEED                 6463  \n",
      "\n",
      "\u001b[1m\n",
      "=========================== Textcat F (per label) ===========================\u001b[0m\n",
      "\n",
      "                   P        R       F\n",
      "Entry Level    50.00    66.67   57.14\n",
      "Senior Level   84.62    84.62   84.62\n",
      "Internship     75.00   100.00   85.71\n",
      "Mid Level      87.50    70.00   77.78\n",
      "\n",
      "\u001b[1m\n",
      "======================== Textcat ROC AUC (per label) ========================\u001b[0m\n",
      "\n",
      "               ROC AUC\n",
      "Entry Level       0.95\n",
      "Senior Level      0.85\n",
      "Internship        1.00\n",
      "Mid Level         0.91\n",
      "\n"
     ]
    }
   ],
   "source": [
    "model.eval_cli()"
   ]
  },
  {
   "cell_type": "code",
   "execution_count": 9,
   "id": "0d10ae52-1768-429d-851e-77607e4d97e9",
   "metadata": {},
   "outputs": [
    {
     "name": "stdout",
     "output_type": "stream",
     "text": [
      "\u001b[38;5;4m[i] Using GPU: 0\u001b[0m\n",
      "\u001b[38;5;2m[+] Loaded model ..\\trained_pipelines\\model-best\\\u001b[0m\n"
     ]
    },
    {
     "name": "stderr",
     "output_type": "stream",
     "text": [
      "\n",
      "0it [00:00, ?it/s]\n",
      "1it [00:01,  1.50s/it]\n",
      "6it [00:01,  4.92it/s]\n",
      "10it [00:01,  8.68it/s]\n",
      "14it [00:01, 12.48it/s]\n",
      "19it [00:01, 17.69it/s]\n",
      "25it [00:02, 24.65it/s]\n",
      "29it [00:02, 13.45it/s]\n"
     ]
    }
   ],
   "source": [
    "# Apply model on test/validation data\n",
    "!python -m spacy apply ..\\trained_pipelines\\model-best\\ ..\\data\\val.spacy ..\\outputs\\test_pred.spacy --force --gpu-id 0"
   ]
  },
  {
   "cell_type": "code",
   "execution_count": 10,
   "id": "ed3108d7-64df-4fb4-bfe8-44ca020a7d45",
   "metadata": {},
   "outputs": [
    {
     "name": "stdout",
     "output_type": "stream",
     "text": [
      "Classification report for transformer roberta-base:\n",
      "               precision    recall  f1-score   support\n",
      "\n",
      " Entry Level       0.50      0.67      0.57         3\n",
      "   Mid Level       0.88      0.70      0.78        10\n",
      "  Internship       0.75      1.00      0.86         3\n",
      "Senior Level       0.85      0.85      0.85        13\n",
      "\n",
      "    accuracy                           0.79        29\n",
      "   macro avg       0.74      0.80      0.76        29\n",
      "weighted avg       0.81      0.79      0.80        29\n",
      "\n"
     ]
    }
   ],
   "source": [
    "model.performance_metrics(from_saved_model=True)"
   ]
  },
  {
   "cell_type": "code",
   "execution_count": 11,
   "id": "1ffbfa77-279d-424b-acc5-59959bfbe71c",
   "metadata": {},
   "outputs": [
    {
     "name": "stdout",
     "output_type": "stream",
     "text": [
      "\u001b[38;5;4m[i] Using GPU: 0\u001b[0m\n",
      "\u001b[38;5;2m[+] Loaded model ..\\trained_pipelines\\model-best\\\u001b[0m\n"
     ]
    },
    {
     "name": "stderr",
     "output_type": "stream",
     "text": [
      "\n",
      "0it [00:00, ?it/s]\n",
      "1it [00:01,  1.51s/it]\n",
      "5it [00:01,  4.01it/s]\n",
      "9it [00:01,  7.87it/s]\n",
      "14it [00:01, 13.30it/s]\n",
      "18it [00:01, 17.40it/s]\n",
      "23it [00:02, 22.32it/s]\n",
      "28it [00:02, 26.97it/s]\n",
      "33it [00:02, 30.50it/s]\n",
      "38it [00:02, 33.23it/s]\n",
      "43it [00:02, 34.23it/s]\n",
      "49it [00:02, 37.28it/s]\n",
      "54it [00:02, 38.47it/s]\n",
      "59it [00:02, 38.77it/s]\n",
      "64it [00:03, 38.98it/s]\n",
      "69it [00:03, 39.83it/s]\n",
      "74it [00:03, 40.55it/s]\n",
      "75it [00:03, 22.46it/s]\n"
     ]
    }
   ],
   "source": [
    "# Apply model on actual test data\n",
    "!python -m spacy apply ..\\trained_pipelines\\model-best\\ ..\\data\\test.spacy ..\\outputs\\test_pred.spacy --force --gpu-id 0"
   ]
  },
  {
   "cell_type": "code",
   "execution_count": 12,
   "id": "63b8f30a-cd69-4dcc-a033-e3c5633c3007",
   "metadata": {},
   "outputs": [],
   "source": [
    "test_pred_levels = model.get_test_preds()"
   ]
  },
  {
   "cell_type": "code",
   "execution_count": 13,
   "id": "00878f35-0f8f-42a1-85b0-97765d432f05",
   "metadata": {},
   "outputs": [],
   "source": [
    "test = model.test_df.copy(deep=True)\n",
    "test.drop('desc_title', axis=1, inplace=True)\n",
    "test['level'] = test_pred_levels"
   ]
  },
  {
   "cell_type": "code",
   "execution_count": 14,
   "id": "b4a31c62-04e5-42ba-a6db-34b171560401",
   "metadata": {},
   "outputs": [
    {
     "data": {
      "text/html": [
       "<div>\n",
       "<style scoped>\n",
       "    .dataframe tbody tr th:only-of-type {\n",
       "        vertical-align: middle;\n",
       "    }\n",
       "\n",
       "    .dataframe tbody tr th {\n",
       "        vertical-align: top;\n",
       "    }\n",
       "\n",
       "    .dataframe thead th {\n",
       "        text-align: right;\n",
       "    }\n",
       "</style>\n",
       "<table border=\"1\" class=\"dataframe\">\n",
       "  <thead>\n",
       "    <tr style=\"text-align: right;\">\n",
       "      <th></th>\n",
       "      <th>level</th>\n",
       "      <th>description</th>\n",
       "      <th>title</th>\n",
       "    </tr>\n",
       "  </thead>\n",
       "  <tbody>\n",
       "    <tr>\n",
       "      <th>141</th>\n",
       "      <td>Entry Level</td>\n",
       "      <td>OUTFITTERY is Europe’s biggest Personal Shoppi...</td>\n",
       "      <td>Customer Service Netherlands in Berlin (m/f)</td>\n",
       "    </tr>\n",
       "    <tr>\n",
       "      <th>142</th>\n",
       "      <td>Senior Level</td>\n",
       "      <td>OUTFITTERY is Europe’s biggest Personal Shoppi...</td>\n",
       "      <td>DevOps Engineer (m/f)</td>\n",
       "    </tr>\n",
       "    <tr>\n",
       "      <th>143</th>\n",
       "      <td>Senior Level</td>\n",
       "      <td>OUTFITTERY is Europe’s biggest Personal Shoppi...</td>\n",
       "      <td>Head of Product Management (IT) (m/f)</td>\n",
       "    </tr>\n",
       "    <tr>\n",
       "      <th>144</th>\n",
       "      <td>Entry Level</td>\n",
       "      <td>OUTFITTERY is Europe’s biggest Personal Shoppi...</td>\n",
       "      <td>Help Desk Support (m/f)</td>\n",
       "    </tr>\n",
       "    <tr>\n",
       "      <th>145</th>\n",
       "      <td>Internship</td>\n",
       "      <td>OUTFITTERY is Europe’s biggest Personal Shoppi...</td>\n",
       "      <td>Intern Help Desk (m/f)</td>\n",
       "    </tr>\n",
       "    <tr>\n",
       "      <th>...</th>\n",
       "      <td>...</td>\n",
       "      <td>...</td>\n",
       "      <td>...</td>\n",
       "    </tr>\n",
       "    <tr>\n",
       "      <th>211</th>\n",
       "      <td>Entry Level</td>\n",
       "      <td>Work in a one of a kind international environm...</td>\n",
       "      <td>Native Italian Translation Internship</td>\n",
       "    </tr>\n",
       "    <tr>\n",
       "      <th>212</th>\n",
       "      <td>Internship</td>\n",
       "      <td>Work in a unique international environment and...</td>\n",
       "      <td>International Translation Internship Program (...</td>\n",
       "    </tr>\n",
       "    <tr>\n",
       "      <th>213</th>\n",
       "      <td>Internship</td>\n",
       "      <td>Photography - New York Habitat Internship\\nWho...</td>\n",
       "      <td>Photography - New York Habitat Internship</td>\n",
       "    </tr>\n",
       "    <tr>\n",
       "      <th>214</th>\n",
       "      <td>Entry Level</td>\n",
       "      <td>Are you free every day from 10:30am - 1:30pm a...</td>\n",
       "      <td>High Paying Part Time Delivery Driver</td>\n",
       "    </tr>\n",
       "    <tr>\n",
       "      <th>215</th>\n",
       "      <td>Senior Level</td>\n",
       "      <td>OUTFITTERY is Europe’s biggest Personal Shoppi...</td>\n",
       "      <td>Agile Coach (m/f)</td>\n",
       "    </tr>\n",
       "  </tbody>\n",
       "</table>\n",
       "<p>75 rows × 3 columns</p>\n",
       "</div>"
      ],
      "text/plain": [
       "            level                                        description  \\\n",
       "141   Entry Level  OUTFITTERY is Europe’s biggest Personal Shoppi...   \n",
       "142  Senior Level  OUTFITTERY is Europe’s biggest Personal Shoppi...   \n",
       "143  Senior Level  OUTFITTERY is Europe’s biggest Personal Shoppi...   \n",
       "144   Entry Level  OUTFITTERY is Europe’s biggest Personal Shoppi...   \n",
       "145    Internship  OUTFITTERY is Europe’s biggest Personal Shoppi...   \n",
       "..            ...                                                ...   \n",
       "211   Entry Level  Work in a one of a kind international environm...   \n",
       "212    Internship  Work in a unique international environment and...   \n",
       "213    Internship  Photography - New York Habitat Internship\\nWho...   \n",
       "214   Entry Level  Are you free every day from 10:30am - 1:30pm a...   \n",
       "215  Senior Level  OUTFITTERY is Europe’s biggest Personal Shoppi...   \n",
       "\n",
       "                                                 title  \n",
       "141       Customer Service Netherlands in Berlin (m/f)  \n",
       "142                              DevOps Engineer (m/f)  \n",
       "143              Head of Product Management (IT) (m/f)  \n",
       "144                            Help Desk Support (m/f)  \n",
       "145                             Intern Help Desk (m/f)  \n",
       "..                                                 ...  \n",
       "211              Native Italian Translation Internship  \n",
       "212  International Translation Internship Program (...  \n",
       "213          Photography - New York Habitat Internship  \n",
       "214              High Paying Part Time Delivery Driver  \n",
       "215                                  Agile Coach (m/f)  \n",
       "\n",
       "[75 rows x 3 columns]"
      ]
     },
     "execution_count": 14,
     "metadata": {},
     "output_type": "execute_result"
    }
   ],
   "source": [
    "test"
   ]
  },
  {
   "cell_type": "code",
   "execution_count": 15,
   "id": "ac2555fb-a5c1-4fdd-8b6b-7f7dd07ea842",
   "metadata": {},
   "outputs": [],
   "source": [
    "test.to_json(\"../outputs/test_pred.json\", orient='records')"
   ]
  },
  {
   "cell_type": "code",
   "execution_count": null,
   "id": "db70853b-b95b-4cc4-83e6-3e590cbc8f5a",
   "metadata": {},
   "outputs": [],
   "source": []
  }
 ],
 "metadata": {
  "kernelspec": {
   "display_name": "Python 3 (ipykernel)",
   "language": "python",
   "name": "python3"
  },
  "language_info": {
   "codemirror_mode": {
    "name": "ipython",
    "version": 3
   },
   "file_extension": ".py",
   "mimetype": "text/x-python",
   "name": "python",
   "nbconvert_exporter": "python",
   "pygments_lexer": "ipython3",
   "version": "3.8.16"
  }
 },
 "nbformat": 4,
 "nbformat_minor": 5
}
