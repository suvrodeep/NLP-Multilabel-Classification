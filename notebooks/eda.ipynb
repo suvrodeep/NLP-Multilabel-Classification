{
 "cells": [
  {
   "cell_type": "code",
   "execution_count": 1,
   "id": "013bf25c-ac3c-4646-9bf1-d71c6ec4e52a",
   "metadata": {},
   "outputs": [],
   "source": [
    "import sys\n",
    "sys.path.extend([\"../\", \"../src\", \"../config\"])"
   ]
  },
  {
   "cell_type": "code",
   "execution_count": 2,
   "id": "4f979fdc-60f3-4136-9488-b330fee2ad17",
   "metadata": {},
   "outputs": [
    {
     "name": "stderr",
     "output_type": "stream",
     "text": [
      "[nltk_data] Downloading package omw-1.4 to\n",
      "[nltk_data]     C:\\Users\\suvro\\AppData\\Roaming\\nltk_data...\n",
      "[nltk_data]   Package omw-1.4 is already up-to-date!\n"
     ]
    }
   ],
   "source": [
    "from preprocess import PreProcess\n",
    "import pandas as pd\n",
    "import seaborn as sb\n",
    "import spacy\n",
    "from evaluation import EvaluateSimilarity"
   ]
  },
  {
   "cell_type": "code",
   "execution_count": 3,
   "id": "971ceed1-ffd0-4eb8-bc97-290f3421f1f4",
   "metadata": {},
   "outputs": [],
   "source": [
    "df = pd.read_json(\"../data.json\")"
   ]
  },
  {
   "cell_type": "code",
   "execution_count": 4,
   "id": "daa8d28c-ac42-45de-a016-34c1d14d3948",
   "metadata": {},
   "outputs": [
    {
     "data": {
      "text/html": [
       "<div>\n",
       "<style scoped>\n",
       "    .dataframe tbody tr th:only-of-type {\n",
       "        vertical-align: middle;\n",
       "    }\n",
       "\n",
       "    .dataframe tbody tr th {\n",
       "        vertical-align: top;\n",
       "    }\n",
       "\n",
       "    .dataframe thead th {\n",
       "        text-align: right;\n",
       "    }\n",
       "</style>\n",
       "<table border=\"1\" class=\"dataframe\">\n",
       "  <thead>\n",
       "    <tr style=\"text-align: right;\">\n",
       "      <th></th>\n",
       "      <th>level</th>\n",
       "      <th>description</th>\n",
       "      <th>title</th>\n",
       "    </tr>\n",
       "  </thead>\n",
       "  <tbody>\n",
       "    <tr>\n",
       "      <th>0</th>\n",
       "      <td>Entry Level</td>\n",
       "      <td>OUTFITTERY is Europe’s biggest Personal Shoppi...</td>\n",
       "      <td>Frontend Engineer (m/f)</td>\n",
       "    </tr>\n",
       "    <tr>\n",
       "      <th>1</th>\n",
       "      <td>Senior Level</td>\n",
       "      <td>OUTFITTERY is Europe’s biggest Personal Shoppi...</td>\n",
       "      <td>Senior Product Manager (m/f)</td>\n",
       "    </tr>\n",
       "    <tr>\n",
       "      <th>2</th>\n",
       "      <td>Entry Level</td>\n",
       "      <td>JOB DESCRIPTION\\nPamet is looking for Android ...</td>\n",
       "      <td>Android Developer</td>\n",
       "    </tr>\n",
       "    <tr>\n",
       "      <th>3</th>\n",
       "      <td>Senior Level</td>\n",
       "      <td>We are looking for a Development Lead with 5+ ...</td>\n",
       "      <td>Development Lead</td>\n",
       "    </tr>\n",
       "    <tr>\n",
       "      <th>4</th>\n",
       "      <td>Entry Level</td>\n",
       "      <td>JOB DESCRIPTION\\nPamet is looking for a IBM We...</td>\n",
       "      <td>IBM WebSphere Portal Developer</td>\n",
       "    </tr>\n",
       "    <tr>\n",
       "      <th>...</th>\n",
       "      <td>...</td>\n",
       "      <td>...</td>\n",
       "      <td>...</td>\n",
       "    </tr>\n",
       "    <tr>\n",
       "      <th>211</th>\n",
       "      <td>NaN</td>\n",
       "      <td>Work in a one of a kind international environm...</td>\n",
       "      <td>Native Italian Translation Internship</td>\n",
       "    </tr>\n",
       "    <tr>\n",
       "      <th>212</th>\n",
       "      <td>NaN</td>\n",
       "      <td>Work in a unique international environment and...</td>\n",
       "      <td>International Translation Internship Program (...</td>\n",
       "    </tr>\n",
       "    <tr>\n",
       "      <th>213</th>\n",
       "      <td>NaN</td>\n",
       "      <td>Photography - New York Habitat Internship\\nWho...</td>\n",
       "      <td>Photography - New York Habitat Internship</td>\n",
       "    </tr>\n",
       "    <tr>\n",
       "      <th>214</th>\n",
       "      <td>NaN</td>\n",
       "      <td>Are you free every day from 10:30am - 1:30pm a...</td>\n",
       "      <td>High Paying Part Time Delivery Driver</td>\n",
       "    </tr>\n",
       "    <tr>\n",
       "      <th>215</th>\n",
       "      <td>NaN</td>\n",
       "      <td>OUTFITTERY is Europe’s biggest Personal Shoppi...</td>\n",
       "      <td>Agile Coach (m/f)</td>\n",
       "    </tr>\n",
       "  </tbody>\n",
       "</table>\n",
       "<p>216 rows × 3 columns</p>\n",
       "</div>"
      ],
      "text/plain": [
       "            level                                        description  \\\n",
       "0     Entry Level  OUTFITTERY is Europe’s biggest Personal Shoppi...   \n",
       "1    Senior Level  OUTFITTERY is Europe’s biggest Personal Shoppi...   \n",
       "2     Entry Level  JOB DESCRIPTION\\nPamet is looking for Android ...   \n",
       "3    Senior Level  We are looking for a Development Lead with 5+ ...   \n",
       "4     Entry Level  JOB DESCRIPTION\\nPamet is looking for a IBM We...   \n",
       "..            ...                                                ...   \n",
       "211           NaN  Work in a one of a kind international environm...   \n",
       "212           NaN  Work in a unique international environment and...   \n",
       "213           NaN  Photography - New York Habitat Internship\\nWho...   \n",
       "214           NaN  Are you free every day from 10:30am - 1:30pm a...   \n",
       "215           NaN  OUTFITTERY is Europe’s biggest Personal Shoppi...   \n",
       "\n",
       "                                                 title  \n",
       "0                              Frontend Engineer (m/f)  \n",
       "1                         Senior Product Manager (m/f)  \n",
       "2                                    Android Developer  \n",
       "3                                     Development Lead  \n",
       "4                       IBM WebSphere Portal Developer  \n",
       "..                                                 ...  \n",
       "211              Native Italian Translation Internship  \n",
       "212  International Translation Internship Program (...  \n",
       "213          Photography - New York Habitat Internship  \n",
       "214              High Paying Part Time Delivery Driver  \n",
       "215                                  Agile Coach (m/f)  \n",
       "\n",
       "[216 rows x 3 columns]"
      ]
     },
     "execution_count": 4,
     "metadata": {},
     "output_type": "execute_result"
    }
   ],
   "source": [
    "df"
   ]
  },
  {
   "cell_type": "code",
   "execution_count": 5,
   "id": "d1dbd324-1894-4441-a165-9827f7f71c6b",
   "metadata": {},
   "outputs": [
    {
     "data": {
      "text/plain": [
       "141"
      ]
     },
     "execution_count": 5,
     "metadata": {},
     "output_type": "execute_result"
    }
   ],
   "source": [
    "# Tranining samples\n",
    "train = df[~df['level'].isna()]\n",
    "len(train)"
   ]
  },
  {
   "cell_type": "code",
   "execution_count": 6,
   "id": "b5f0e6f8-efcc-436f-8d9a-9f6e1299e6e0",
   "metadata": {},
   "outputs": [
    {
     "data": {
      "text/plain": [
       "75"
      ]
     },
     "execution_count": 6,
     "metadata": {},
     "output_type": "execute_result"
    }
   ],
   "source": [
    "# Test samples\n",
    "test = df[df['level'].isna()]\n",
    "len(test)"
   ]
  },
  {
   "cell_type": "markdown",
   "id": "3c5d0a61-ec34-4e92-ab38-af566ab66bb9",
   "metadata": {},
   "source": [
    "### Analyze training data"
   ]
  },
  {
   "cell_type": "code",
   "execution_count": 7,
   "id": "a781947d-5cea-4043-9aa5-bd20abd350f0",
   "metadata": {},
   "outputs": [
    {
     "data": {
      "text/plain": [
       "<Axes: xlabel='level', ylabel='count'>"
      ]
     },
     "execution_count": 7,
     "metadata": {},
     "output_type": "execute_result"
    },
    {
     "data": {
      "image/png": "[encoded data removed]",
      "text/plain": [
       "<Figure size 640x480 with 1 Axes>"
      ]
     },
     "metadata": {},
     "output_type": "display_data"
    }
   ],
   "source": [
    "sb.countplot(data=train, x='level')"
   ]
  },
  {
   "cell_type": "code",
   "execution_count": 8,
   "id": "fe19f683-82d4-47ff-9600-897e0dff42ec",
   "metadata": {},
   "outputs": [],
   "source": [
    "test_pred = pd.read_json(\"../outputs/test_pred.json\")"
   ]
  },
  {
   "cell_type": "code",
   "execution_count": 9,
   "id": "f5bda86c-b073-4063-a984-a30ee7da0608",
   "metadata": {},
   "outputs": [
    {
     "data": {
      "text/html": [
       "<div>\n",
       "<style scoped>\n",
       "    .dataframe tbody tr th:only-of-type {\n",
       "        vertical-align: middle;\n",
       "    }\n",
       "\n",
       "    .dataframe tbody tr th {\n",
       "        vertical-align: top;\n",
       "    }\n",
       "\n",
       "    .dataframe thead th {\n",
       "        text-align: right;\n",
       "    }\n",
       "</style>\n",
       "<table border=\"1\" class=\"dataframe\">\n",
       "  <thead>\n",
       "    <tr style=\"text-align: right;\">\n",
       "      <th></th>\n",
       "      <th>level</th>\n",
       "      <th>description</th>\n",
       "      <th>title</th>\n",
       "    </tr>\n",
       "  </thead>\n",
       "  <tbody>\n",
       "    <tr>\n",
       "      <th>0</th>\n",
       "      <td>Entry Level</td>\n",
       "      <td>OUTFITTERY is Europe’s biggest Personal Shoppi...</td>\n",
       "      <td>Customer Service Netherlands in Berlin (m/f)</td>\n",
       "    </tr>\n",
       "    <tr>\n",
       "      <th>1</th>\n",
       "      <td>Senior Level</td>\n",
       "      <td>OUTFITTERY is Europe’s biggest Personal Shoppi...</td>\n",
       "      <td>DevOps Engineer (m/f)</td>\n",
       "    </tr>\n",
       "    <tr>\n",
       "      <th>2</th>\n",
       "      <td>Senior Level</td>\n",
       "      <td>OUTFITTERY is Europe’s biggest Personal Shoppi...</td>\n",
       "      <td>Head of Product Management (IT) (m/f)</td>\n",
       "    </tr>\n",
       "    <tr>\n",
       "      <th>3</th>\n",
       "      <td>Entry Level</td>\n",
       "      <td>OUTFITTERY is Europe’s biggest Personal Shoppi...</td>\n",
       "      <td>Help Desk Support (m/f)</td>\n",
       "    </tr>\n",
       "    <tr>\n",
       "      <th>4</th>\n",
       "      <td>Internship</td>\n",
       "      <td>OUTFITTERY is Europe’s biggest Personal Shoppi...</td>\n",
       "      <td>Intern Help Desk (m/f)</td>\n",
       "    </tr>\n",
       "    <tr>\n",
       "      <th>...</th>\n",
       "      <td>...</td>\n",
       "      <td>...</td>\n",
       "      <td>...</td>\n",
       "    </tr>\n",
       "    <tr>\n",
       "      <th>70</th>\n",
       "      <td>Entry Level</td>\n",
       "      <td>Work in a one of a kind international environm...</td>\n",
       "      <td>Native Italian Translation Internship</td>\n",
       "    </tr>\n",
       "    <tr>\n",
       "      <th>71</th>\n",
       "      <td>Internship</td>\n",
       "      <td>Work in a unique international environment and...</td>\n",
       "      <td>International Translation Internship Program (...</td>\n",
       "    </tr>\n",
       "    <tr>\n",
       "      <th>72</th>\n",
       "      <td>Internship</td>\n",
       "      <td>Photography - New York Habitat Internship\\nWho...</td>\n",
       "      <td>Photography - New York Habitat Internship</td>\n",
       "    </tr>\n",
       "    <tr>\n",
       "      <th>73</th>\n",
       "      <td>Entry Level</td>\n",
       "      <td>Are you free every day from 10:30am - 1:30pm a...</td>\n",
       "      <td>High Paying Part Time Delivery Driver</td>\n",
       "    </tr>\n",
       "    <tr>\n",
       "      <th>74</th>\n",
       "      <td>Senior Level</td>\n",
       "      <td>OUTFITTERY is Europe’s biggest Personal Shoppi...</td>\n",
       "      <td>Agile Coach (m/f)</td>\n",
       "    </tr>\n",
       "  </tbody>\n",
       "</table>\n",
       "<p>75 rows × 3 columns</p>\n",
       "</div>"
      ],
      "text/plain": [
       "           level                                        description  \\\n",
       "0    Entry Level  OUTFITTERY is Europe’s biggest Personal Shoppi...   \n",
       "1   Senior Level  OUTFITTERY is Europe’s biggest Personal Shoppi...   \n",
       "2   Senior Level  OUTFITTERY is Europe’s biggest Personal Shoppi...   \n",
       "3    Entry Level  OUTFITTERY is Europe’s biggest Personal Shoppi...   \n",
       "4     Internship  OUTFITTERY is Europe’s biggest Personal Shoppi...   \n",
       "..           ...                                                ...   \n",
       "70   Entry Level  Work in a one of a kind international environm...   \n",
       "71    Internship  Work in a unique international environment and...   \n",
       "72    Internship  Photography - New York Habitat Internship\\nWho...   \n",
       "73   Entry Level  Are you free every day from 10:30am - 1:30pm a...   \n",
       "74  Senior Level  OUTFITTERY is Europe’s biggest Personal Shoppi...   \n",
       "\n",
       "                                                title  \n",
       "0        Customer Service Netherlands in Berlin (m/f)  \n",
       "1                               DevOps Engineer (m/f)  \n",
       "2               Head of Product Management (IT) (m/f)  \n",
       "3                             Help Desk Support (m/f)  \n",
       "4                              Intern Help Desk (m/f)  \n",
       "..                                                ...  \n",
       "70              Native Italian Translation Internship  \n",
       "71  International Translation Internship Program (...  \n",
       "72          Photography - New York Habitat Internship  \n",
       "73              High Paying Part Time Delivery Driver  \n",
       "74                                  Agile Coach (m/f)  \n",
       "\n",
       "[75 rows x 3 columns]"
      ]
     },
     "execution_count": 9,
     "metadata": {},
     "output_type": "execute_result"
    }
   ],
   "source": [
    "test_pred"
   ]
  },
  {
   "cell_type": "markdown",
   "id": "b7aa4442-b101-4e7a-bec2-428dfba28875",
   "metadata": {},
   "source": [
    "### Evaluate test prediction by similarity with train"
   ]
  },
  {
   "cell_type": "code",
   "execution_count": 10,
   "id": "2aaad178-7c5a-403d-866e-239fbadbd409",
   "metadata": {},
   "outputs": [],
   "source": [
    "eval = EvaluateSimilarity(predicted=test_pred, reference=train)"
   ]
  },
  {
   "cell_type": "code",
   "execution_count": 11,
   "id": "bcae656d-80e4-4de6-8630-79ebea55216d",
   "metadata": {
    "scrolled": true
   },
   "outputs": [
    {
     "name": "stderr",
     "output_type": "stream",
     "text": [
      "E:\\interview_tasks\\smartrecruiters\\ict-job-levels-suvrodeep-ghosh\\notebooks\\../src\\evaluation.py:24: SettingWithCopyWarning: \n",
      "A value is trying to be set on a copy of a slice from a DataFrame.\n",
      "Try using .loc[row_indexer,col_indexer] = value instead\n",
      "\n",
      "See the caveats in the documentation: https://pandas.pydata.org/pandas-docs/stable/user_guide/indexing.html#returning-a-view-versus-a-copy\n",
      "  data['desc_title'] = data['title'].astype(str) + \" \" + data['description'].astype(str)\n",
      "E:\\interview_tasks\\smartrecruiters\\ict-job-levels-suvrodeep-ghosh\\notebooks\\../src\\evaluation.py:25: SettingWithCopyWarning: \n",
      "A value is trying to be set on a copy of a slice from a DataFrame.\n",
      "Try using .loc[row_indexer,col_indexer] = value instead\n",
      "\n",
      "See the caveats in the documentation: https://pandas.pydata.org/pandas-docs/stable/user_guide/indexing.html#returning-a-view-versus-a-copy\n",
      "  data['desc_title'] = preprocess.spacy_remove_stop_words(\n",
      "E:\\interview_tasks\\smartrecruiters\\ict-job-levels-suvrodeep-ghosh\\notebooks\\../src\\evaluation.py:44: SettingWithCopyWarning: \n",
      "A value is trying to be set on a copy of a slice from a DataFrame.\n",
      "Try using .loc[row_indexer,col_indexer] = value instead\n",
      "\n",
      "See the caveats in the documentation: https://pandas.pydata.org/pandas-docs/stable/user_guide/indexing.html#returning-a-view-versus-a-copy\n",
      "  ref['docs'] = ref_docs\n"
     ]
    }
   ],
   "source": [
    "df_sim = eval.calculate_similarity_score()"
   ]
  },
  {
   "cell_type": "code",
   "execution_count": 12,
   "id": "b7cd8fee-7b30-48fd-900c-ee5c600ac62d",
   "metadata": {},
   "outputs": [
    {
     "data": {
      "text/html": [
       "<div>\n",
       "<style scoped>\n",
       "    .dataframe tbody tr th:only-of-type {\n",
       "        vertical-align: middle;\n",
       "    }\n",
       "\n",
       "    .dataframe tbody tr th {\n",
       "        vertical-align: top;\n",
       "    }\n",
       "\n",
       "    .dataframe thead th {\n",
       "        text-align: right;\n",
       "    }\n",
       "</style>\n",
       "<table border=\"1\" class=\"dataframe\">\n",
       "  <thead>\n",
       "    <tr style=\"text-align: right;\">\n",
       "      <th></th>\n",
       "      <th>0</th>\n",
       "    </tr>\n",
       "  </thead>\n",
       "  <tbody>\n",
       "    <tr>\n",
       "      <th>Mid Level</th>\n",
       "      <td>88.17</td>\n",
       "    </tr>\n",
       "    <tr>\n",
       "      <th>Internship</th>\n",
       "      <td>87.84</td>\n",
       "    </tr>\n",
       "    <tr>\n",
       "      <th>Entry Level</th>\n",
       "      <td>81.65</td>\n",
       "    </tr>\n",
       "    <tr>\n",
       "      <th>Senior Level</th>\n",
       "      <td>91.14</td>\n",
       "    </tr>\n",
       "  </tbody>\n",
       "</table>\n",
       "</div>"
      ],
      "text/plain": [
       "                  0\n",
       "Mid Level     88.17\n",
       "Internship    87.84\n",
       "Entry Level   81.65\n",
       "Senior Level  91.14"
      ]
     },
     "execution_count": 12,
     "metadata": {},
     "output_type": "execute_result"
    }
   ],
   "source": [
    "df_sim"
   ]
  },
  {
   "cell_type": "code",
   "execution_count": null,
   "id": "32c8a617-f7ff-4e3e-8e7c-3a3f5a0d2d83",
   "metadata": {},
   "outputs": [],
   "source": []
  }
 ],
 "metadata": {
  "kernelspec": {
   "display_name": "Python 3 (ipykernel)",
   "language": "python",
   "name": "python3"
  },
  "language_info": {
   "codemirror_mode": {
    "name": "ipython",
    "version": 3
   },
   "file_extension": ".py",
   "mimetype": "text/x-python",
   "name": "python",
   "nbconvert_exporter": "python",
   "pygments_lexer": "ipython3",
   "version": "3.8.16"
  }
 },
 "nbformat": 4,
 "nbformat_minor": 5
}
